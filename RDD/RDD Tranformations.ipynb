{
 "cells": [
  {
   "cell_type": "code",
   "execution_count": 0,
   "metadata": {
    "application/vnd.databricks.v1+cell": {
     "cellMetadata": {
      "byteLimit": 2048000,
      "rowLimit": 10000
     },
     "inputWidgets": {},
     "nuid": "f4d23267-d9a7-46e6-b684-8091cb18a49b",
     "showTitle": false,
     "tableResultSettingsMap": {},
     "title": ""
    }
   },
   "outputs": [],
   "source": [
    "from pyspark.sql import SparkSession\n",
    "spark=SparkSession.builder.appName(\"RDD Functions\").getOrCreate()"
   ]
  },
  {
   "cell_type": "markdown",
   "metadata": {
    "application/vnd.databricks.v1+cell": {
     "cellMetadata": {
      "byteLimit": 2048000,
      "rowLimit": 10000
     },
     "inputWidgets": {},
     "nuid": "e3795d39-c2e5-42f2-9065-cc77dc03cd2a",
     "showTitle": false,
     "tableResultSettingsMap": {},
     "title": ""
    }
   },
   "source": [
    "MAP Function"
   ]
  },
  {
   "cell_type": "code",
   "execution_count": 0,
   "metadata": {
    "application/vnd.databricks.v1+cell": {
     "cellMetadata": {
      "byteLimit": 2048000,
      "rowLimit": 10000
     },
     "inputWidgets": {},
     "nuid": "bb46c7e5-32df-4441-9bf5-64e6eb562aad",
     "showTitle": false,
     "tableResultSettingsMap": {},
     "title": ""
    }
   },
   "outputs": [
    {
     "output_type": "stream",
     "name": "stdout",
     "output_type": "stream",
     "text": [
      "Out[2]: ['Project',\n 'Gutenberg’s',\n 'Alice’s',\n 'Adventures',\n 'in',\n 'Wonderland',\n 'Project',\n 'Gutenberg’s',\n 'Adventures',\n 'in',\n 'Wonderland',\n 'Project',\n 'Gutenberg’s']"
     ]
    }
   ],
   "source": [
    "data = [\"Project\",\"Gutenberg’s\",\"Alice’s\",\"Adventures\",\n",
    "\"in\",\"Wonderland\",\"Project\",\"Gutenberg’s\",\"Adventures\",\n",
    "\"in\",\"Wonderland\",\"Project\",\"Gutenberg’s\"]\n",
    "rdd=spark.sparkContext.parallelize(data)\n",
    "rdd.collect()"
   ]
  },
  {
   "cell_type": "code",
   "execution_count": 0,
   "metadata": {
    "application/vnd.databricks.v1+cell": {
     "cellMetadata": {
      "byteLimit": 2048000,
      "rowLimit": 10000
     },
     "inputWidgets": {},
     "nuid": "41405284-a32b-4b4d-b201-2c6471600e52",
     "showTitle": false,
     "tableResultSettingsMap": {},
     "title": ""
    }
   },
   "outputs": [
    {
     "output_type": "stream",
     "name": "stdout",
     "output_type": "stream",
     "text": [
      "Out[3]: [('Project', 1),\n ('Gutenberg’s', 1),\n ('Alice’s', 1),\n ('Adventures', 1),\n ('in', 1),\n ('Wonderland', 1),\n ('Project', 1),\n ('Gutenberg’s', 1),\n ('Adventures', 1),\n ('in', 1),\n ('Wonderland', 1),\n ('Project', 1),\n ('Gutenberg’s', 1)]"
     ]
    }
   ],
   "source": [
    "rdd2=rdd.map(lambda x: (x,1))\n",
    "rdd2.collect()"
   ]
  },
  {
   "cell_type": "code",
   "execution_count": 0,
   "metadata": {
    "application/vnd.databricks.v1+cell": {
     "cellMetadata": {
      "byteLimit": 2048000,
      "rowLimit": 10000
     },
     "inputWidgets": {},
     "nuid": "a9850429-0d20-4e35-a799-9493977a5fb5",
     "showTitle": false,
     "tableResultSettingsMap": {},
     "title": ""
    }
   },
   "outputs": [
    {
     "output_type": "stream",
     "name": "stdout",
     "output_type": "stream",
     "text": [
      "Out[4]: 13"
     ]
    }
   ],
   "source": [
    "rdd2.count()"
   ]
  },
  {
   "cell_type": "code",
   "execution_count": 0,
   "metadata": {
    "application/vnd.databricks.v1+cell": {
     "cellMetadata": {
      "byteLimit": 2048000,
      "rowLimit": 10000
     },
     "inputWidgets": {},
     "nuid": "b70daf64-02a7-4b25-ba6d-152946e3ddc9",
     "showTitle": false,
     "tableResultSettingsMap": {},
     "title": ""
    }
   },
   "outputs": [
    {
     "output_type": "stream",
     "name": "stdout",
     "output_type": "stream",
     "text": [
      "+---------+--------+------+------+\n|firstname|lastname|gender|salary|\n+---------+--------+------+------+\n|    James|   Smith|     M|  3000|\n|     Anna|    Rose|     F|  2500|\n|   Robert|Williams|     M|  1800|\n+---------+--------+------+------+\n\n"
     ]
    }
   ],
   "source": [
    "data = [('James','Smith','M',3000),\n",
    "  ('Anna','Rose','F',2500),\n",
    "  ('Robert','Williams','M',1800), \n",
    "]\n",
    "\n",
    "columns = [\"firstname\",\"lastname\",\"gender\",\"salary\"]\n",
    "df = spark.createDataFrame(data=data, schema = columns)\n",
    "df.show()"
   ]
  },
  {
   "cell_type": "code",
   "execution_count": 0,
   "metadata": {
    "application/vnd.databricks.v1+cell": {
     "cellMetadata": {
      "byteLimit": 2048000,
      "rowLimit": 10000
     },
     "inputWidgets": {},
     "nuid": "2055ea99-6b68-4afc-86f5-2f5e0a9efeeb",
     "showTitle": false,
     "tableResultSettingsMap": {},
     "title": ""
    }
   },
   "outputs": [
    {
     "output_type": "stream",
     "name": "stdout",
     "output_type": "stream",
     "text": [
      "Out[6]: [('James Smith', 'M', 6000),\n ('Anna Rose', 'F', 5000),\n ('Robert Williams', 'M', 3600)]"
     ]
    }
   ],
   "source": [
    "rdd_map=df.rdd.map(lambda x: (x[0]+\" \"+x[1],x[2],x[3]*2))\n",
    "rdd_map.collect()"
   ]
  },
  {
   "cell_type": "code",
   "execution_count": 0,
   "metadata": {
    "application/vnd.databricks.v1+cell": {
     "cellMetadata": {
      "byteLimit": 2048000,
      "rowLimit": 10000
     },
     "inputWidgets": {},
     "nuid": "5c754a2a-3d0e-4539-8c48-ea512947b9cf",
     "showTitle": false,
     "tableResultSettingsMap": {},
     "title": ""
    }
   },
   "outputs": [
    {
     "output_type": "stream",
     "name": "stdout",
     "output_type": "stream",
     "text": [
      "+---------------+------+-----------+\n|           name|gender|salary_hike|\n+---------------+------+-----------+\n|    James Smith|     M|       6000|\n|      Anna Rose|     F|       5000|\n|Robert Williams|     M|       3600|\n+---------------+------+-----------+\n\n"
     ]
    }
   ],
   "source": [
    "df2=rdd_map.toDF([\"name\",\"gender\",\"salary_hike\"])\n",
    "df2.show()"
   ]
  },
  {
   "cell_type": "code",
   "execution_count": 0,
   "metadata": {
    "application/vnd.databricks.v1+cell": {
     "cellMetadata": {
      "byteLimit": 2048000,
      "rowLimit": 10000
     },
     "inputWidgets": {},
     "nuid": "1144845f-3005-414e-ae8d-39711e33a42c",
     "showTitle": false,
     "tableResultSettingsMap": {},
     "title": ""
    }
   },
   "outputs": [
    {
     "output_type": "stream",
     "name": "stdout",
     "output_type": "stream",
     "text": [
      "Out[8]: [('James Smith', 'm', 6000),\n ('Anna Rose', 'f', 5000),\n ('Robert Williams', 'm', 3600)]"
     ]
    }
   ],
   "source": [
    "def map_func(x):\n",
    "    first_name=x.firstname\n",
    "    last_name=x.lastname\n",
    "    name=first_name+\" \"+last_name\n",
    "    gender=x.gender.lower()\n",
    "    salary=x.salary*2\n",
    "    return (name,gender,salary)\n",
    "\n",
    "rdd_res=df.rdd.map(lambda x:map_func(x))\n",
    "rdd_res.collect()"
   ]
  },
  {
   "cell_type": "code",
   "execution_count": 0,
   "metadata": {
    "application/vnd.databricks.v1+cell": {
     "cellMetadata": {
      "byteLimit": 2048000,
      "rowLimit": 10000
     },
     "inputWidgets": {},
     "nuid": "003f9444-7735-4c0a-b6d5-e51ed08a301f",
     "showTitle": false,
     "tableResultSettingsMap": {},
     "title": ""
    }
   },
   "outputs": [
    {
     "output_type": "stream",
     "name": "stdout",
     "output_type": "stream",
     "text": [
      "+---------------+------+-----------+\n|           name|gender|salary_hike|\n+---------------+------+-----------+\n|    James Smith|     m|       6000|\n|      Anna Rose|     f|       5000|\n|Robert Williams|     m|       3600|\n+---------------+------+-----------+\n\n"
     ]
    }
   ],
   "source": [
    "column=[\"name\",\"gender\",\"salary_hike\"]\n",
    "df3=rdd_res.toDF(schema=column)\n",
    "df3.show()"
   ]
  },
  {
   "cell_type": "markdown",
   "metadata": {
    "application/vnd.databricks.v1+cell": {
     "cellMetadata": {
      "byteLimit": 2048000,
      "rowLimit": 10000
     },
     "inputWidgets": {},
     "nuid": "49a6ab92-50d8-4189-b143-62fc7f5612ba",
     "showTitle": false,
     "tableResultSettingsMap": {},
     "title": ""
    }
   },
   "source": [
    "FLAT MAP Function"
   ]
  },
  {
   "cell_type": "code",
   "execution_count": 0,
   "metadata": {
    "application/vnd.databricks.v1+cell": {
     "cellMetadata": {
      "byteLimit": 2048000,
      "rowLimit": 10000
     },
     "inputWidgets": {},
     "nuid": "f6882169-9a53-48bc-b804-b2408fd087b3",
     "showTitle": false,
     "tableResultSettingsMap": {},
     "title": ""
    }
   },
   "outputs": [
    {
     "output_type": "stream",
     "name": "stdout",
     "output_type": "stream",
     "text": [
      "Out[10]: [5, 6, 7, 8, 9]"
     ]
    }
   ],
   "source": [
    "rdd=spark.sparkContext.range(5,10,1)\n",
    "rdd.collect()"
   ]
  },
  {
   "cell_type": "code",
   "execution_count": 0,
   "metadata": {
    "application/vnd.databricks.v1+cell": {
     "cellMetadata": {
      "byteLimit": 2048000,
      "rowLimit": 10000
     },
     "inputWidgets": {},
     "nuid": "3d407081-9b47-4471-aa34-c5b9f0f8c8ca",
     "showTitle": false,
     "tableResultSettingsMap": {},
     "title": ""
    }
   },
   "outputs": [
    {
     "output_type": "stream",
     "name": "stdout",
     "output_type": "stream",
     "text": [
      "Out[11]: [5, 10, 15, 6, 12, 18, 7, 14, 21, 8, 16, 24, 9, 18, 27]"
     ]
    }
   ],
   "source": [
    "rdd2=rdd.flatMap(lambda x: (x,x*2,x*3))\n",
    "rdd2.collect()"
   ]
  },
  {
   "cell_type": "code",
   "execution_count": 0,
   "metadata": {
    "application/vnd.databricks.v1+cell": {
     "cellMetadata": {
      "byteLimit": 2048000,
      "rowLimit": 10000
     },
     "inputWidgets": {},
     "nuid": "177e847e-0298-49bd-9c46-7971e355c7a3",
     "showTitle": false,
     "tableResultSettingsMap": {},
     "title": ""
    }
   },
   "outputs": [
    {
     "output_type": "stream",
     "name": "stdout",
     "output_type": "stream",
     "text": [
      "Out[12]: ['If you want to split a text file']"
     ]
    }
   ],
   "source": [
    "rdd_text = spark.sparkContext.parallelize([\"If you want to split a text file\"])\n",
    "rdd_text.collect()"
   ]
  },
  {
   "cell_type": "code",
   "execution_count": 0,
   "metadata": {
    "application/vnd.databricks.v1+cell": {
     "cellMetadata": {
      "byteLimit": 2048000,
      "rowLimit": 10000
     },
     "inputWidgets": {},
     "nuid": "afc1156e-928e-4a03-8814-a125410fb498",
     "showTitle": false,
     "tableResultSettingsMap": {},
     "title": ""
    }
   },
   "outputs": [
    {
     "output_type": "stream",
     "name": "stdout",
     "output_type": "stream",
     "text": [
      "Out[13]: ['If', 'you', 'want', 'to', 'split', 'a', 'text', 'file']"
     ]
    }
   ],
   "source": [
    "rdd2=rdd_text.flatMap(lambda x : x.split(\" \"))\n",
    "rdd2.collect()"
   ]
  },
  {
   "cell_type": "markdown",
   "metadata": {
    "application/vnd.databricks.v1+cell": {
     "cellMetadata": {
      "byteLimit": 2048000,
      "rowLimit": 10000
     },
     "inputWidgets": {},
     "nuid": "6553635e-a18a-4e80-8ea6-6e1608b967a9",
     "showTitle": false,
     "tableResultSettingsMap": {},
     "title": ""
    }
   },
   "source": [
    "\n",
    "REDUCE : this functionused to reduce dataset in single value"
   ]
  },
  {
   "cell_type": "code",
   "execution_count": 0,
   "metadata": {
    "application/vnd.databricks.v1+cell": {
     "cellMetadata": {
      "byteLimit": 2048000,
      "rowLimit": 10000
     },
     "inputWidgets": {},
     "nuid": "abbe55a6-fea7-4717-b922-e8922917491f",
     "showTitle": false,
     "tableResultSettingsMap": {},
     "title": ""
    }
   },
   "outputs": [
    {
     "output_type": "stream",
     "name": "stdout",
     "output_type": "stream",
     "text": [
      "Min : 1\nMax: 5\nSum : 20\nMultiply : 720\n"
     ]
    }
   ],
   "source": [
    "list_rdd = spark.sparkContext.parallelize([1,2,3,4,5,3,2])\n",
    "print(\"Min : \"+ str(list_rdd.reduce(lambda x, y: min(x, y))))\n",
    "print(\"Max: \"+ str(list_rdd.reduce(lambda x, y: max(x,y))))\n",
    "print(\"Sum : \"+ str(list_rdd.reduce(lambda x,y: x+y)))\n",
    "print(\"Multiply : \"+ str(list_rdd.reduce(lambda x,y: x*y)))\n"
   ]
  },
  {
   "cell_type": "markdown",
   "metadata": {
    "application/vnd.databricks.v1+cell": {
     "cellMetadata": {},
     "inputWidgets": {},
     "nuid": "5d4fe1f7-161c-47aa-95a2-fc67b1e6bfea",
     "showTitle": false,
     "tableResultSettingsMap": {},
     "title": ""
    }
   },
   "source": [
    "reduceByKey"
   ]
  },
  {
   "cell_type": "code",
   "execution_count": 0,
   "metadata": {
    "application/vnd.databricks.v1+cell": {
     "cellMetadata": {
      "byteLimit": 2048000,
      "rowLimit": 10000
     },
     "inputWidgets": {},
     "nuid": "6e65c8b0-bfe9-4bcd-8624-eb06019b109f",
     "showTitle": false,
     "tableResultSettingsMap": {},
     "title": ""
    }
   },
   "outputs": [
    {
     "output_type": "stream",
     "name": "stdout",
     "output_type": "stream",
     "text": [
      "Out[16]: ['If', 'you', 'want', 'to', 'split', 'a', 'text', 'file']"
     ]
    }
   ],
   "source": [
    "rdd2.collect()"
   ]
  },
  {
   "cell_type": "code",
   "execution_count": 0,
   "metadata": {
    "application/vnd.databricks.v1+cell": {
     "cellMetadata": {
      "byteLimit": 2048000,
      "rowLimit": 10000
     },
     "inputWidgets": {},
     "nuid": "fd009ba0-0701-4566-8648-946e48466e4b",
     "showTitle": false,
     "tableResultSettingsMap": {},
     "title": ""
    }
   },
   "outputs": [
    {
     "output_type": "stream",
     "name": "stdout",
     "output_type": "stream",
     "text": [
      "Out[17]: [('you', 1),\n ('a', 1),\n ('text', 1),\n ('If', 1),\n ('to', 1),\n ('want', 1),\n ('split', 1),\n ('file', 1)]"
     ]
    }
   ],
   "source": [
    "rdd_1=rdd2.map(lambda x : (x,1))\n",
    "res= rdd_1.reduceByKey(lambda x,y : (x+y))\n",
    "res.collect()"
   ]
  },
  {
   "cell_type": "markdown",
   "metadata": {
    "application/vnd.databricks.v1+cell": {
     "cellMetadata": {},
     "inputWidgets": {},
     "nuid": "6d2b21cb-ecc9-4f96-8599-fb53d8af3470",
     "showTitle": false,
     "tableResultSettingsMap": {},
     "title": ""
    }
   },
   "source": [
    "sortByKey"
   ]
  },
  {
   "cell_type": "code",
   "execution_count": 0,
   "metadata": {
    "application/vnd.databricks.v1+cell": {
     "cellMetadata": {
      "byteLimit": 2048000,
      "rowLimit": 10000
     },
     "inputWidgets": {},
     "nuid": "0668173e-589a-4866-a033-aaa11ccd48a1",
     "showTitle": false,
     "tableResultSettingsMap": {},
     "title": ""
    }
   },
   "outputs": [
    {
     "output_type": "stream",
     "name": "stdout",
     "output_type": "stream",
     "text": [
      "Out[18]: [('A', 6), ('C', 10), ('H', 4), ('L', 8)]"
     ]
    }
   ],
   "source": [
    "rdd_list = spark.sparkContext.parallelize([['C', 10], ['H', 4], ['A', 6], ['L', 8]])\n",
    "rdd_sort = rdd_list.sortByKey()\n",
    "rdd_sort.collect()\n"
   ]
  },
  {
   "cell_type": "code",
   "execution_count": 0,
   "metadata": {
    "application/vnd.databricks.v1+cell": {
     "cellMetadata": {
      "byteLimit": 2048000,
      "rowLimit": 10000
     },
     "inputWidgets": {},
     "nuid": "c892497c-84b9-472a-afc0-644f0c028a62",
     "showTitle": false,
     "tableResultSettingsMap": {},
     "title": ""
    }
   },
   "outputs": [
    {
     "output_type": "stream",
     "name": "stdout",
     "output_type": "stream",
     "text": [
      "Out[19]: [('L', 8), ('H', 4), ('C', 10), ('A', 6)]"
     ]
    }
   ],
   "source": [
    "rdd_list.sortByKey(False).collect()"
   ]
  },
  {
   "cell_type": "markdown",
   "metadata": {
    "application/vnd.databricks.v1+cell": {
     "cellMetadata": {},
     "inputWidgets": {},
     "nuid": "b6b9d315-65e5-4d6f-b487-b3c6edc6b6fa",
     "showTitle": false,
     "tableResultSettingsMap": {},
     "title": ""
    }
   },
   "source": [
    "groupByKey"
   ]
  },
  {
   "cell_type": "code",
   "execution_count": 0,
   "metadata": {
    "application/vnd.databricks.v1+cell": {
     "cellMetadata": {
      "byteLimit": 2048000,
      "rowLimit": 10000
     },
     "inputWidgets": {},
     "nuid": "a80eeb82-8503-45dd-af57-28dd1c8dcb39",
     "showTitle": false,
     "tableResultSettingsMap": {},
     "title": ""
    }
   },
   "outputs": [
    {
     "output_type": "stream",
     "name": "stdout",
     "output_type": "stream",
     "text": [
      "Out[20]: [['C', 10],\n ['H', 4],\n ['A', 6],\n ['L', 8],\n ['A', 6],\n ['C', 12],\n ['L', 2],\n ['H', 4],\n ['A', 6],\n ['C', 13],\n ['L', 6],\n ['H', 4]]"
     ]
    }
   ],
   "source": [
    "rdd_list = spark.sparkContext.parallelize([['C', 10], ['H', 4], ['A', 6], ['L', 8], ['A', 6], ['C', 12], ['L', 2], ['H', 4], ['A', 6], ['C', 13], ['L', 6], ['H', 4]])\n",
    "rdd_list.collect()"
   ]
  },
  {
   "cell_type": "code",
   "execution_count": 0,
   "metadata": {
    "application/vnd.databricks.v1+cell": {
     "cellMetadata": {
      "byteLimit": 2048000,
      "rowLimit": 10000
     },
     "inputWidgets": {},
     "nuid": "555ffb79-990e-4d0e-b58b-492cc06dad28",
     "showTitle": false,
     "tableResultSettingsMap": {},
     "title": ""
    }
   },
   "outputs": [
    {
     "output_type": "stream",
     "name": "stdout",
     "output_type": "stream",
     "text": [
      "Out[21]: [('H', <pyspark.resultiterable.ResultIterable at 0x77f910f98f10>),\n ('C', <pyspark.resultiterable.ResultIterable at 0x77f910f92310>),\n ('L', <pyspark.resultiterable.ResultIterable at 0x77f910f922b0>),\n ('A', <pyspark.resultiterable.ResultIterable at 0x77f910f92fa0>)]"
     ]
    }
   ],
   "source": [
    "rdd_group_key = rdd_list.groupByKey()\n",
    "rdd_group_key.collect()"
   ]
  },
  {
   "cell_type": "code",
   "execution_count": 0,
   "metadata": {
    "application/vnd.databricks.v1+cell": {
     "cellMetadata": {
      "byteLimit": 2048000,
      "rowLimit": 10000
     },
     "inputWidgets": {},
     "nuid": "da857adc-5501-4769-9e6b-17a67c730ae5",
     "showTitle": false,
     "tableResultSettingsMap": {},
     "title": ""
    }
   },
   "outputs": [
    {
     "output_type": "stream",
     "name": "stdout",
     "output_type": "stream",
     "text": [
      "Out[22]: [('H', [4, 4, 4]), ('C', [10, 12, 13]), ('L', [8, 2, 6]), ('A', [6, 6, 6])]"
     ]
    }
   ],
   "source": [
    "rdd_result = rdd_group_key.map(lambda x: (x[0], list(x[1])))\n",
    "rdd_result.collect()\n"
   ]
  }
 ],
 "metadata": {
  "application/vnd.databricks.v1+notebook": {
   "computePreferences": null,
   "dashboards": [],
   "environmentMetadata": {
    "base_environment": "",
    "environment_version": "1"
   },
   "inputWidgetPreferences": null,
   "language": "python",
   "notebookMetadata": {
    "pythonIndentUnit": 4
   },
   "notebookName": "RDD Tranformations",
   "widgets": {}
  }
 },
 "nbformat": 4,
 "nbformat_minor": 0
}
